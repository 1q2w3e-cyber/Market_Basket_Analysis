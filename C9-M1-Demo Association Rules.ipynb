{
 "cells": [
  {
   "cell_type": "code",
   "execution_count": 2,
   "metadata": {
    "colab": {
     "base_uri": "https://localhost:8080/"
    },
    "executionInfo": {
     "elapsed": 3687,
     "status": "ok",
     "timestamp": 1690675780285,
     "user": {
      "displayName": "Di Wu",
      "userId": "05255951341257561169"
     },
     "user_tz": 240
    },
    "id": "v45PRS28ILza",
    "outputId": "0d680a35-b3f2-4132-e102-e0cc2ea94ee3"
   },
   "outputs": [
    {
     "name": "stdout",
     "output_type": "stream",
     "text": [
      "   Bread  Butter   Eggs   Milk\n",
      "0   True   False   True   True\n",
      "1   True    True   True  False\n",
      "2  False   False   True   True\n",
      "3   True    True   True   True\n",
      "4   True   False  False   True\n",
      "5   True   False   True  False\n",
      "6   True    True  False   True\n"
     ]
    }
   ],
   "source": [
    "import pandas as pd\n",
    "from mlxtend.preprocessing import TransactionEncoder\n",
    "\n",
    "# Sample dataset (list of transactions)\n",
    "dataset = [\n",
    "    ['Milk', 'Bread', 'Eggs'],\n",
    "    ['Bread', 'Eggs', 'Butter'],\n",
    "    ['Milk', 'Eggs'],\n",
    "    ['Milk', 'Bread', 'Eggs', 'Butter'],\n",
    "    ['Milk', 'Bread'],\n",
    "    ['Bread', 'Eggs'],\n",
    "    ['Milk', 'Bread', 'Butter'],\n",
    "]\n",
    "\n",
    "# Convert the dataset into a one-hot encoded format\n",
    "te = TransactionEncoder()\n",
    "te_ary = te.fit(dataset).transform(dataset)\n",
    "df = pd.DataFrame(te_ary, columns=te.columns_)\n",
    "print(df)\n"
   ]
  },
  {
   "cell_type": "markdown",
   "metadata": {
    "id": "kmLFKrYPIS7W"
   },
   "source": [
    "## Perform Frequent Itemset Mining using Apriori\n",
    "Now, we'll use the Apriori algorithm to mine frequent itemsets from the one-hot encoded dataset."
   ]
  },
  {
   "cell_type": "code",
   "execution_count": 3,
   "metadata": {
    "colab": {
     "base_uri": "https://localhost:8080/"
    },
    "executionInfo": {
     "elapsed": 161,
     "status": "ok",
     "timestamp": 1690675796127,
     "user": {
      "displayName": "Di Wu",
      "userId": "05255951341257561169"
     },
     "user_tz": 240
    },
    "id": "bRVBZE67IUnH",
    "outputId": "c63cdbc4-5a45-4ff5-f31e-305375b22e79"
   },
   "outputs": [
    {
     "name": "stdout",
     "output_type": "stream",
     "text": [
      "Frequent Itemsets:\n",
      "    support         itemsets\n",
      "0  0.857143          (Bread)\n",
      "1  0.428571         (Butter)\n",
      "2  0.714286           (Eggs)\n",
      "3  0.714286           (Milk)\n",
      "4  0.428571  (Butter, Bread)\n",
      "5  0.571429    (Eggs, Bread)\n",
      "6  0.571429    (Milk, Bread)\n",
      "7  0.428571     (Eggs, Milk)\n"
     ]
    }
   ],
   "source": [
    "from mlxtend.frequent_patterns import apriori, association_rules\n",
    "\n",
    "# Define the minimum support threshold (e.g., 0.4 means an itemset must appear in at least 40% of transactions)\n",
    "min_support = 0.4\n",
    "\n",
    "# Perform frequent itemset mining using Apriori\n",
    "frequent_itemsets = apriori(df, min_support=min_support, use_colnames=True)\n",
    "\n",
    "print(\"Frequent Itemsets:\")\n",
    "print(frequent_itemsets)"
   ]
  },
  {
   "cell_type": "markdown",
   "metadata": {
    "id": "ZN5ZpDlFIXp4"
   },
   "source": [
    "## Generating Association Rules\n",
    "we'll use the frequent itemsets to generate association rules and calculate various association metrics such as confidence and lift."
   ]
  },
  {
   "cell_type": "code",
   "execution_count": 8,
   "metadata": {
    "colab": {
     "base_uri": "https://localhost:8080/"
    },
    "executionInfo": {
     "elapsed": 11,
     "status": "ok",
     "timestamp": 1690676117358,
     "user": {
      "displayName": "Di Wu",
      "userId": "05255951341257561169"
     },
     "user_tz": 240
    },
    "id": "uTwLMsfMIZWW",
    "outputId": "8ed63b51-d15f-44a3-a0c3-2f2b0f543381"
   },
   "outputs": [
    {
     "name": "stdout",
     "output_type": "stream",
     "text": [
      "\n",
      "Association Rules:\n",
      "  antecedents consequents   support  confidence      lift\n",
      "0    (Butter)     (Bread)  0.428571    1.000000  1.166667\n",
      "1      (Eggs)     (Bread)  0.571429    0.800000  0.933333\n",
      "2     (Bread)      (Eggs)  0.571429    0.666667  0.933333\n",
      "3      (Milk)     (Bread)  0.571429    0.800000  0.933333\n",
      "4     (Bread)      (Milk)  0.571429    0.666667  0.933333\n",
      "5      (Eggs)      (Milk)  0.428571    0.600000  0.840000\n",
      "6      (Milk)      (Eggs)  0.428571    0.600000  0.840000\n"
     ]
    },
    {
     "name": "stderr",
     "output_type": "stream",
     "text": [
      "/usr/local/lib/python3.10/dist-packages/ipykernel/ipkernel.py:283: DeprecationWarning: `should_run_async` will not call `transform_cell` automatically in the future. Please pass the result to `transformed_cell` argument and any exception that happen during thetransform in `preprocessing_exc_tuple` in IPython 7.17 and above.\n",
      "  and should_run_async(code)\n"
     ]
    }
   ],
   "source": [
    "# Generate association rules with minimum confidence threshold (e.g., 0.6)\n",
    "min_confidence = 0.6\n",
    "association_rules_df = association_rules(frequent_itemsets, metric=\"confidence\", min_threshold=min_confidence)\n",
    "\n",
    "print(\"\\nAssociation Rules:\")\n",
    "print(association_rules_df[['antecedents', 'consequents', 'support', 'confidence','lift']])\n"
   ]
  },
  {
   "cell_type": "markdown",
   "metadata": {},
   "source": [
    "# Interpretation of the Output : \n",
    "\n",
    "\n",
    "\n",
    "The association rules show that buying Butter strongly predicts the purchase of Bread, with a perfect confidence of 1.0 and a positive lift (1.17), indicating a strong relationship. \n",
    "\n",
    "Eggs and Milk, when bought, moderately predict the purchase of Bread and each other, but with a lower lift (less than 1), suggesting a weaker or potentially negative association."
   ]
  }
 ],
 "metadata": {
  "colab": {
   "authorship_tag": "ABX9TyNHu0SLb5V6rGx4BviMxIDA",
   "provenance": []
  },
  "kernelspec": {
   "display_name": "Python 3 (ipykernel)",
   "language": "python",
   "name": "python3"
  },
  "language_info": {
   "codemirror_mode": {
    "name": "ipython",
    "version": 3
   },
   "file_extension": ".py",
   "mimetype": "text/x-python",
   "name": "python",
   "nbconvert_exporter": "python",
   "pygments_lexer": "ipython3",
   "version": "3.10.4"
  }
 },
 "nbformat": 4,
 "nbformat_minor": 1
}
