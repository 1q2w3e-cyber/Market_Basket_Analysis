{
 "cells": [
  {
   "cell_type": "markdown",
   "metadata": {
    "id": "A0FCEDgCZvIp"
   },
   "source": [
    "# FP Growth Demo\n"
   ]
  },
  {
   "cell_type": "code",
   "execution_count": 1,
   "metadata": {
    "executionInfo": {
     "elapsed": 1059,
     "status": "ok",
     "timestamp": 1690730774419,
     "user": {
      "displayName": "Di Wu",
      "userId": "05255951341257561169"
     },
     "user_tz": 240
    },
    "id": "mTjwRlUsaDOS"
   },
   "outputs": [],
   "source": [
    "import pandas as pd\n",
    "from mlxtend.preprocessing import TransactionEncoder\n",
    "from mlxtend.frequent_patterns import fpgrowth, association_rules"
   ]
  },
  {
   "cell_type": "markdown",
   "metadata": {
    "id": "6z5M9Wr9aG5J"
   },
   "source": [
    "## Prepare the Dataset\n"
   ]
  },
  {
   "cell_type": "code",
   "execution_count": 2,
   "metadata": {
    "colab": {
     "base_uri": "https://localhost:8080/"
    },
    "executionInfo": {
     "elapsed": 197,
     "status": "ok",
     "timestamp": 1690730899595,
     "user": {
      "displayName": "Di Wu",
      "userId": "05255951341257561169"
     },
     "user_tz": 240
    },
    "id": "UV0Z3TqYaNbk",
    "outputId": "d5ac3ff7-7f53-42dc-e61d-c1a2bca87ccd"
   },
   "outputs": [
    {
     "name": "stdout",
     "output_type": "stream",
     "text": [
      "   Bread  Butter   Eggs   Milk\n",
      "0   True   False   True   True\n",
      "1   True    True   True  False\n",
      "2  False   False   True   True\n",
      "3   True    True   True   True\n",
      "4   True   False  False   True\n",
      "5   True   False   True  False\n",
      "6   True    True  False   True\n"
     ]
    }
   ],
   "source": [
    "# Sample dataset (list of transactions)\n",
    "dataset = [\n",
    "    ['Milk', 'Bread', 'Eggs'],\n",
    "    ['Bread', 'Eggs', 'Butter'],\n",
    "    ['Milk', 'Eggs'],\n",
    "    ['Milk', 'Bread', 'Eggs', 'Butter'],\n",
    "    ['Milk', 'Bread'],\n",
    "    ['Bread', 'Eggs'],\n",
    "    ['Milk', 'Bread', 'Butter'],\n",
    "]\n",
    "\n",
    "# Convert the dataset into a one-hot encoded format\n",
    "te = TransactionEncoder()\n",
    "te_ary = te.fit(dataset).transform(dataset)\n",
    "df = pd.DataFrame(te_ary, columns=te.columns_)\n",
    "print(df)"
   ]
  },
  {
   "cell_type": "markdown",
   "metadata": {
    "id": "go9rjZKlaA7j"
   },
   "source": [
    "## Apply FP-growth to find frequent itemsets."
   ]
  },
  {
   "cell_type": "code",
   "execution_count": 3,
   "metadata": {
    "colab": {
     "base_uri": "https://localhost:8080/"
    },
    "executionInfo": {
     "elapsed": 168,
     "status": "ok",
     "timestamp": 1690731029161,
     "user": {
      "displayName": "Di Wu",
      "userId": "05255951341257561169"
     },
     "user_tz": 240
    },
    "id": "SMjBw3H4aodn",
    "outputId": "de77f714-95a0-4895-c60b-17764ef0ac8f"
   },
   "outputs": [
    {
     "name": "stdout",
     "output_type": "stream",
     "text": [
      "    support         itemsets\n",
      "0  0.857143          (Bread)\n",
      "1  0.714286           (Milk)\n",
      "2  0.714286           (Eggs)\n",
      "3  0.428571         (Butter)\n",
      "4  0.571429    (Bread, Milk)\n",
      "5  0.571429    (Bread, Eggs)\n",
      "6  0.428571     (Milk, Eggs)\n",
      "7  0.428571  (Bread, Butter)\n"
     ]
    }
   ],
   "source": [
    "# Apply FP-growth to find frequent itemsets\n",
    "frequent_itemsets = fpgrowth(df, min_support=0.4, use_colnames=True)\n",
    "\n",
    "print(frequent_itemsets)"
   ]
  },
  {
   "cell_type": "markdown",
   "metadata": {
    "id": "OxrQ057tawiu"
   },
   "source": [
    "## Mine association rules from frequent itemsets."
   ]
  },
  {
   "cell_type": "code",
   "execution_count": 4,
   "metadata": {
    "colab": {
     "base_uri": "https://localhost:8080/"
    },
    "executionInfo": {
     "elapsed": 190,
     "status": "ok",
     "timestamp": 1690731031446,
     "user": {
      "displayName": "Di Wu",
      "userId": "05255951341257561169"
     },
     "user_tz": 240
    },
    "id": "npyDwVBqaxeW",
    "outputId": "8e7804ca-ffc4-4c68-f4cf-59936072a56c"
   },
   "outputs": [
    {
     "name": "stdout",
     "output_type": "stream",
     "text": [
      "\n",
      "Association Rules:\n",
      "  antecedents consequents   support  confidence      lift\n",
      "0     (Bread)      (Milk)  0.571429    0.666667  0.933333\n",
      "1      (Milk)     (Bread)  0.571429    0.800000  0.933333\n",
      "2     (Bread)      (Eggs)  0.571429    0.666667  0.933333\n",
      "3      (Eggs)     (Bread)  0.571429    0.800000  0.933333\n",
      "4      (Milk)      (Eggs)  0.428571    0.600000  0.840000\n",
      "5      (Eggs)      (Milk)  0.428571    0.600000  0.840000\n",
      "6    (Butter)     (Bread)  0.428571    1.000000  1.166667\n"
     ]
    }
   ],
   "source": [
    "# Generate association rules with minimum confidence threshold (e.g., 0.6)\n",
    "min_confidence = 0.6\n",
    "association_rules_df = association_rules(frequent_itemsets, metric=\"confidence\", min_threshold=min_confidence)\n",
    "\n",
    "print(\"\\nAssociation Rules:\")\n",
    "print(association_rules_df[['antecedents', 'consequents', 'support', 'confidence','lift']])\n"
   ]
  }
 ],
 "metadata": {
  "colab": {
   "authorship_tag": "ABX9TyMuyCRD4dP9J1n9lRtEenZt",
   "provenance": []
  },
  "kernelspec": {
   "display_name": "Python 3 (ipykernel)",
   "language": "python",
   "name": "python3"
  },
  "language_info": {
   "codemirror_mode": {
    "name": "ipython",
    "version": 3
   },
   "file_extension": ".py",
   "mimetype": "text/x-python",
   "name": "python",
   "nbconvert_exporter": "python",
   "pygments_lexer": "ipython3",
   "version": "3.10.4"
  }
 },
 "nbformat": 4,
 "nbformat_minor": 1
}
